{
 "cells": [
  {
   "cell_type": "code",
   "execution_count": 1,
   "id": "7a407ada",
   "metadata": {},
   "outputs": [],
   "source": [
    "import pandas as pd\n",
    "import spacy\n",
    "from spacy import tokenizer\n",
    "from spacy import displacy\n",
    "import re\n",
    "import nltk\n",
    "from nltk.corpus import stopwords\n",
    "from nltk.tokenize import word_tokenize\n",
    "from nltk.stem import PorterStemmer , WordNetLemmatizer\n",
    "from sklearn.feature_extraction.text import CountVectorizer\n",
    "from sklearn.feature_extraction.text import TfidfVectorizer\n",
    "from sklearn.linear_model import LogisticRegression , SGDClassifier\n",
    "from sklearn.metrics import accuracy_score ,classification_report\n",
    "import gensim\n",
    "from gensim.models.coherencemodel import CoherenceModel\n",
    "import gensim.corpora as corpora\n",
    "from gensim.models import LsiModel ,TfidfModel\n",
    "import matplotlib.pyplot as plt\n",
    "import seaborn as sns\n",
    "from vaderSentiment.vaderSentiment import SentimentIntensityAnalyzer"
   ]
  },
  {
   "cell_type": "code",
   "execution_count": 33,
   "id": "afc01445",
   "metadata": {},
   "outputs": [],
   "source": [
    "plt.rcParams['figure.figsize'] = [12,5]"
   ]
  },
  {
   "cell_type": "code",
   "execution_count": 3,
   "id": "93409e11",
   "metadata": {},
   "outputs": [],
   "source": [
    "df = pd.read_csv(r\"C:\\Users\\tharu\\Downloads\\fake_news_data.csv\")"
   ]
  },
  {
   "cell_type": "code",
   "execution_count": 4,
   "id": "d9144d91",
   "metadata": {},
   "outputs": [
    {
     "data": {
      "text/html": [
       "<div>\n",
       "<style scoped>\n",
       "    .dataframe tbody tr th:only-of-type {\n",
       "        vertical-align: middle;\n",
       "    }\n",
       "\n",
       "    .dataframe tbody tr th {\n",
       "        vertical-align: top;\n",
       "    }\n",
       "\n",
       "    .dataframe thead th {\n",
       "        text-align: right;\n",
       "    }\n",
       "</style>\n",
       "<table border=\"1\" class=\"dataframe\">\n",
       "  <thead>\n",
       "    <tr style=\"text-align: right;\">\n",
       "      <th></th>\n",
       "      <th>title</th>\n",
       "      <th>text</th>\n",
       "      <th>date</th>\n",
       "      <th>fake_or_factual</th>\n",
       "    </tr>\n",
       "  </thead>\n",
       "  <tbody>\n",
       "    <tr>\n",
       "      <th>0</th>\n",
       "      <td>HOLLYWEIRD LIB SUSAN SARANDON Compares Muslim ...</td>\n",
       "      <td>There are two small problems with your analogy...</td>\n",
       "      <td>Dec 30, 2015</td>\n",
       "      <td>Fake News</td>\n",
       "    </tr>\n",
       "    <tr>\n",
       "      <th>1</th>\n",
       "      <td>Elijah Cummings Called Trump Out To His Face ...</td>\n",
       "      <td>Buried in Trump s bonkers interview with New Y...</td>\n",
       "      <td>April 6, 2017</td>\n",
       "      <td>Fake News</td>\n",
       "    </tr>\n",
       "    <tr>\n",
       "      <th>2</th>\n",
       "      <td>Hillary Clinton Says Half Her Cabinet Will Be...</td>\n",
       "      <td>Women make up over 50 percent of this country,...</td>\n",
       "      <td>April 26, 2016</td>\n",
       "      <td>Fake News</td>\n",
       "    </tr>\n",
       "    <tr>\n",
       "      <th>3</th>\n",
       "      <td>Russian bombing of U.S.-backed forces being di...</td>\n",
       "      <td>WASHINGTON (Reuters) - U.S. Defense Secretary ...</td>\n",
       "      <td>September 18, 2017</td>\n",
       "      <td>Factual News</td>\n",
       "    </tr>\n",
       "    <tr>\n",
       "      <th>4</th>\n",
       "      <td>Britain says window to restore Northern Irelan...</td>\n",
       "      <td>BELFAST (Reuters) - Northern Ireland s politic...</td>\n",
       "      <td>September 4, 2017</td>\n",
       "      <td>Factual News</td>\n",
       "    </tr>\n",
       "  </tbody>\n",
       "</table>\n",
       "</div>"
      ],
      "text/plain": [
       "                                               title  \\\n",
       "0  HOLLYWEIRD LIB SUSAN SARANDON Compares Muslim ...   \n",
       "1   Elijah Cummings Called Trump Out To His Face ...   \n",
       "2   Hillary Clinton Says Half Her Cabinet Will Be...   \n",
       "3  Russian bombing of U.S.-backed forces being di...   \n",
       "4  Britain says window to restore Northern Irelan...   \n",
       "\n",
       "                                                text                 date  \\\n",
       "0  There are two small problems with your analogy...         Dec 30, 2015   \n",
       "1  Buried in Trump s bonkers interview with New Y...        April 6, 2017   \n",
       "2  Women make up over 50 percent of this country,...       April 26, 2016   \n",
       "3  WASHINGTON (Reuters) - U.S. Defense Secretary ...  September 18, 2017    \n",
       "4  BELFAST (Reuters) - Northern Ireland s politic...   September 4, 2017    \n",
       "\n",
       "  fake_or_factual  \n",
       "0       Fake News  \n",
       "1       Fake News  \n",
       "2       Fake News  \n",
       "3    Factual News  \n",
       "4    Factual News  "
      ]
     },
     "execution_count": 4,
     "metadata": {},
     "output_type": "execute_result"
    }
   ],
   "source": [
    "df.head()"
   ]
  },
  {
   "cell_type": "code",
   "execution_count": 5,
   "id": "65f5eda3",
   "metadata": {},
   "outputs": [
    {
     "name": "stdout",
     "output_type": "stream",
     "text": [
      "<class 'pandas.core.frame.DataFrame'>\n",
      "RangeIndex: 198 entries, 0 to 197\n",
      "Data columns (total 4 columns):\n",
      " #   Column           Non-Null Count  Dtype \n",
      "---  ------           --------------  ----- \n",
      " 0   title            198 non-null    object\n",
      " 1   text             198 non-null    object\n",
      " 2   date             198 non-null    object\n",
      " 3   fake_or_factual  198 non-null    object\n",
      "dtypes: object(4)\n",
      "memory usage: 6.3+ KB\n"
     ]
    }
   ],
   "source": [
    "df.info()"
   ]
  },
  {
   "cell_type": "code",
   "execution_count": 6,
   "id": "8a299684",
   "metadata": {},
   "outputs": [
    {
     "name": "stdout",
     "output_type": "stream",
     "text": [
      "Index(['title', 'text', 'date', 'fake_or_factual'], dtype='object')\n",
      "shape (198, 4)\n"
     ]
    }
   ],
   "source": [
    "print(df.columns)\n",
    "print('shape',df.shape)"
   ]
  },
  {
   "cell_type": "code",
   "execution_count": 7,
   "id": "72e54ac6",
   "metadata": {},
   "outputs": [
    {
     "data": {
      "text/plain": [
       "fake_or_factual\n",
       "Factual News    100\n",
       "Fake News        98\n",
       "Name: count, dtype: int64"
      ]
     },
     "execution_count": 7,
     "metadata": {},
     "output_type": "execute_result"
    }
   ],
   "source": [
    "df['fake_or_factual'].value_counts()"
   ]
  },
  {
   "cell_type": "markdown",
   "id": "b1e2296d",
   "metadata": {},
   "source": [
    "### POS tagging"
   ]
  },
  {
   "cell_type": "code",
   "execution_count": 8,
   "id": "fb6eabd9",
   "metadata": {},
   "outputs": [],
   "source": [
    "nlp = spacy.load(\"en_core_web_sm\")"
   ]
  },
  {
   "cell_type": "code",
   "execution_count": 9,
   "id": "5e513c83",
   "metadata": {},
   "outputs": [],
   "source": [
    "fake = df[df['fake_or_factual'] == 'Fake News']\n",
    "factual = df[df['fake_or_factual'] == 'Factual News']"
   ]
  },
  {
   "cell_type": "code",
   "execution_count": 10,
   "id": "ec1a9f92",
   "metadata": {},
   "outputs": [],
   "source": [
    "fake_spacydoc = list(nlp.pipe(fake['text']))\n",
    "factual_spacydoc = list(nlp.pipe(factual['text']))"
   ]
  },
  {
   "cell_type": "code",
   "execution_count": 11,
   "id": "d064e875",
   "metadata": {},
   "outputs": [],
   "source": [
    "def extract_tokens_tag(doc:spacy.tokens.doc.Doc):\n",
    "    return [(i.text, i.ent_type_ ,i.pos_) for i in doc]"
   ]
  },
  {
   "cell_type": "code",
   "execution_count": 12,
   "id": "5ebcd13f",
   "metadata": {},
   "outputs": [],
   "source": [
    "fake_tagsdf = []\n",
    "columns = ['tokens', 'net_tag' ,'pos_tag']"
   ]
  },
  {
   "cell_type": "code",
   "execution_count": 13,
   "id": "955a7690",
   "metadata": {},
   "outputs": [],
   "source": [
    "for ix , doc in enumerate(fake_spacydoc):\n",
    "    tags =extract_tokens_tag(doc)\n",
    "    tags = pd.DataFrame(tags)\n",
    "    tags.columns = columns\n",
    "    fake_tagsdf.append(tags)"
   ]
  },
  {
   "cell_type": "code",
   "execution_count": 14,
   "id": "2f4e2cb9",
   "metadata": {},
   "outputs": [],
   "source": [
    "fake_tagsdf = pd.concat(fake_tagsdf)"
   ]
  },
  {
   "cell_type": "code",
   "execution_count": 15,
   "id": "6cfe9932",
   "metadata": {},
   "outputs": [
    {
     "data": {
      "text/html": [
       "<div>\n",
       "<style scoped>\n",
       "    .dataframe tbody tr th:only-of-type {\n",
       "        vertical-align: middle;\n",
       "    }\n",
       "\n",
       "    .dataframe tbody tr th {\n",
       "        vertical-align: top;\n",
       "    }\n",
       "\n",
       "    .dataframe thead th {\n",
       "        text-align: right;\n",
       "    }\n",
       "</style>\n",
       "<table border=\"1\" class=\"dataframe\">\n",
       "  <thead>\n",
       "    <tr style=\"text-align: right;\">\n",
       "      <th></th>\n",
       "      <th>tokens</th>\n",
       "      <th>net_tag</th>\n",
       "      <th>pos_tag</th>\n",
       "    </tr>\n",
       "  </thead>\n",
       "  <tbody>\n",
       "    <tr>\n",
       "      <th>0</th>\n",
       "      <td>There</td>\n",
       "      <td></td>\n",
       "      <td>PRON</td>\n",
       "    </tr>\n",
       "    <tr>\n",
       "      <th>1</th>\n",
       "      <td>are</td>\n",
       "      <td></td>\n",
       "      <td>VERB</td>\n",
       "    </tr>\n",
       "    <tr>\n",
       "      <th>2</th>\n",
       "      <td>two</td>\n",
       "      <td>CARDINAL</td>\n",
       "      <td>NUM</td>\n",
       "    </tr>\n",
       "    <tr>\n",
       "      <th>3</th>\n",
       "      <td>small</td>\n",
       "      <td></td>\n",
       "      <td>ADJ</td>\n",
       "    </tr>\n",
       "    <tr>\n",
       "      <th>4</th>\n",
       "      <td>problems</td>\n",
       "      <td></td>\n",
       "      <td>NOUN</td>\n",
       "    </tr>\n",
       "  </tbody>\n",
       "</table>\n",
       "</div>"
      ],
      "text/plain": [
       "     tokens   net_tag pos_tag\n",
       "0     There              PRON\n",
       "1       are              VERB\n",
       "2       two  CARDINAL     NUM\n",
       "3     small               ADJ\n",
       "4  problems              NOUN"
      ]
     },
     "execution_count": 15,
     "metadata": {},
     "output_type": "execute_result"
    }
   ],
   "source": [
    "fake_tagsdf.head()"
   ]
  },
  {
   "cell_type": "code",
   "execution_count": 16,
   "id": "91889372",
   "metadata": {},
   "outputs": [],
   "source": [
    "fact_tagsdf = []\n",
    "columns = ['tokens', 'net_tag' ,'pos_tag']"
   ]
  },
  {
   "cell_type": "code",
   "execution_count": 17,
   "id": "6cad3271",
   "metadata": {},
   "outputs": [],
   "source": [
    "for ix , doc in enumerate(factual_spacydoc):\n",
    "    tags =extract_tokens_tag(doc)\n",
    "    tags = pd.DataFrame(tags)\n",
    "    tags.columns = columns\n",
    "    fact_tagsdf.append(tags)"
   ]
  },
  {
   "cell_type": "code",
   "execution_count": 18,
   "id": "d256e709",
   "metadata": {},
   "outputs": [],
   "source": [
    "fact_tagsdf = pd.concat(fact_tagsdf)"
   ]
  },
  {
   "cell_type": "code",
   "execution_count": 19,
   "id": "76b51a3c",
   "metadata": {},
   "outputs": [],
   "source": [
    "fake_pos_counts = fake_tagsdf.groupby(['tokens','pos_tag']).size().reset_index(name=\"counts\").sort_values(by=\"counts\",ascending=False)"
   ]
  },
  {
   "cell_type": "code",
   "execution_count": 20,
   "id": "2f8dea6e",
   "metadata": {},
   "outputs": [
    {
     "data": {
      "text/html": [
       "<div>\n",
       "<style scoped>\n",
       "    .dataframe tbody tr th:only-of-type {\n",
       "        vertical-align: middle;\n",
       "    }\n",
       "\n",
       "    .dataframe tbody tr th {\n",
       "        vertical-align: top;\n",
       "    }\n",
       "\n",
       "    .dataframe thead th {\n",
       "        text-align: right;\n",
       "    }\n",
       "</style>\n",
       "<table border=\"1\" class=\"dataframe\">\n",
       "  <thead>\n",
       "    <tr style=\"text-align: right;\">\n",
       "      <th></th>\n",
       "      <th>tokens</th>\n",
       "      <th>pos_tag</th>\n",
       "      <th>counts</th>\n",
       "    </tr>\n",
       "  </thead>\n",
       "  <tbody>\n",
       "    <tr>\n",
       "      <th>28</th>\n",
       "      <td>,</td>\n",
       "      <td>PUNCT</td>\n",
       "      <td>1908</td>\n",
       "    </tr>\n",
       "    <tr>\n",
       "      <th>7446</th>\n",
       "      <td>the</td>\n",
       "      <td>DET</td>\n",
       "      <td>1834</td>\n",
       "    </tr>\n",
       "    <tr>\n",
       "      <th>39</th>\n",
       "      <td>.</td>\n",
       "      <td>PUNCT</td>\n",
       "      <td>1531</td>\n",
       "    </tr>\n",
       "    <tr>\n",
       "      <th>5759</th>\n",
       "      <td>of</td>\n",
       "      <td>ADP</td>\n",
       "      <td>922</td>\n",
       "    </tr>\n",
       "    <tr>\n",
       "      <th>2661</th>\n",
       "      <td>and</td>\n",
       "      <td>CCONJ</td>\n",
       "      <td>875</td>\n",
       "    </tr>\n",
       "  </tbody>\n",
       "</table>\n",
       "</div>"
      ],
      "text/plain": [
       "     tokens pos_tag  counts\n",
       "28        ,   PUNCT    1908\n",
       "7446    the     DET    1834\n",
       "39        .   PUNCT    1531\n",
       "5759     of     ADP     922\n",
       "2661    and   CCONJ     875"
      ]
     },
     "execution_count": 20,
     "metadata": {},
     "output_type": "execute_result"
    }
   ],
   "source": [
    "fake_pos_counts.head()"
   ]
  },
  {
   "cell_type": "code",
   "execution_count": 21,
   "id": "8d72e867",
   "metadata": {},
   "outputs": [],
   "source": [
    "fact_pos_counts = fact_tagsdf.groupby(['tokens','pos_tag']).size().reset_index(name=\"counts\").sort_values(by=\"counts\",ascending=False)"
   ]
  },
  {
   "cell_type": "code",
   "execution_count": 22,
   "id": "fee314a5",
   "metadata": {},
   "outputs": [
    {
     "data": {
      "text/html": [
       "<div>\n",
       "<style scoped>\n",
       "    .dataframe tbody tr th:only-of-type {\n",
       "        vertical-align: middle;\n",
       "    }\n",
       "\n",
       "    .dataframe tbody tr th {\n",
       "        vertical-align: top;\n",
       "    }\n",
       "\n",
       "    .dataframe thead th {\n",
       "        text-align: right;\n",
       "    }\n",
       "</style>\n",
       "<table border=\"1\" class=\"dataframe\">\n",
       "  <thead>\n",
       "    <tr style=\"text-align: right;\">\n",
       "      <th></th>\n",
       "      <th>tokens</th>\n",
       "      <th>pos_tag</th>\n",
       "      <th>counts</th>\n",
       "    </tr>\n",
       "  </thead>\n",
       "  <tbody>\n",
       "    <tr>\n",
       "      <th>6169</th>\n",
       "      <td>the</td>\n",
       "      <td>DET</td>\n",
       "      <td>1903</td>\n",
       "    </tr>\n",
       "    <tr>\n",
       "      <th>15</th>\n",
       "      <td>,</td>\n",
       "      <td>PUNCT</td>\n",
       "      <td>1698</td>\n",
       "    </tr>\n",
       "    <tr>\n",
       "      <th>22</th>\n",
       "      <td>.</td>\n",
       "      <td>PUNCT</td>\n",
       "      <td>1381</td>\n",
       "    </tr>\n",
       "    <tr>\n",
       "      <th>4733</th>\n",
       "      <td>of</td>\n",
       "      <td>ADP</td>\n",
       "      <td>884</td>\n",
       "    </tr>\n",
       "    <tr>\n",
       "      <th>1905</th>\n",
       "      <td>a</td>\n",
       "      <td>DET</td>\n",
       "      <td>789</td>\n",
       "    </tr>\n",
       "  </tbody>\n",
       "</table>\n",
       "</div>"
      ],
      "text/plain": [
       "     tokens pos_tag  counts\n",
       "6169    the     DET    1903\n",
       "15        ,   PUNCT    1698\n",
       "22        .   PUNCT    1381\n",
       "4733     of     ADP     884\n",
       "1905      a     DET     789"
      ]
     },
     "execution_count": 22,
     "metadata": {},
     "output_type": "execute_result"
    }
   ],
   "source": [
    "fact_pos_counts.head()"
   ]
  },
  {
   "cell_type": "code",
   "execution_count": 23,
   "id": "7fdb4adb",
   "metadata": {
    "scrolled": true
   },
   "outputs": [
    {
     "data": {
      "text/plain": [
       "pos_tag\n",
       "NOUN     2182\n",
       "VERB     1535\n",
       "PROPN    1387\n",
       "ADJ       753\n",
       "ADV       271\n",
       "NUM       203\n",
       "PRON       81\n",
       "ADP        70\n",
       "AUX        44\n",
       "SCONJ      39\n",
       "Name: tokens, dtype: int64"
      ]
     },
     "execution_count": 23,
     "metadata": {},
     "output_type": "execute_result"
    }
   ],
   "source": [
    "fact_pos_counts.groupby(['pos_tag'])['tokens'].count().sort_values(ascending=False).head(10)"
   ]
  },
  {
   "cell_type": "code",
   "execution_count": 24,
   "id": "0a7ec22e",
   "metadata": {},
   "outputs": [
    {
     "data": {
      "text/plain": [
       "pos_tag\n",
       "NOUN     2597\n",
       "VERB     1814\n",
       "PROPN    1657\n",
       "ADJ       876\n",
       "ADV       412\n",
       "NUM       221\n",
       "PRON       99\n",
       "ADP        88\n",
       "AUX        58\n",
       "SCONJ      54\n",
       "Name: tokens, dtype: int64"
      ]
     },
     "execution_count": 24,
     "metadata": {},
     "output_type": "execute_result"
    }
   ],
   "source": [
    "fake_pos_counts.groupby(['pos_tag'])['tokens'].count().sort_values(ascending=False).head(10)"
   ]
  },
  {
   "cell_type": "markdown",
   "id": "c4e7d357",
   "metadata": {},
   "source": [
    "### Named Entities"
   ]
  },
  {
   "cell_type": "code",
   "execution_count": 25,
   "id": "cead1f9f",
   "metadata": {},
   "outputs": [],
   "source": [
    "fake_ne = fake_tagsdf[fake_tagsdf['net_tag']!=\"\"].groupby(['tokens','net_tag']).size().reset_index(name=\"counts\").sort_values(by=\"counts\",ascending=False)"
   ]
  },
  {
   "cell_type": "code",
   "execution_count": 26,
   "id": "ba2330e4",
   "metadata": {},
   "outputs": [],
   "source": [
    "fact_ne = fact_tagsdf[fact_tagsdf['net_tag']!=\"\"].groupby(['tokens','net_tag']).size().reset_index(name=\"counts\").sort_values(by=\"counts\",ascending=False)"
   ]
  },
  {
   "cell_type": "code",
   "execution_count": 34,
   "id": "6c57da8d",
   "metadata": {},
   "outputs": [
    {
     "data": {
      "text/plain": [
       "[Text(0.5, 1.0, 'Most Common Entities in Fake News')]"
      ]
     },
     "execution_count": 34,
     "metadata": {},
     "output_type": "execute_result"
    },
    {
     "data": {
      "image/png": "[encoded data removed]",
      "text/plain": [
       "<Figure size 1200x500 with 1 Axes>"
      ]
     },
     "metadata": {},
     "output_type": "display_data"
    }
   ],
   "source": [
    "sns.barplot(\n",
    "    x = 'counts',\n",
    "    y = 'tokens',\n",
    "    hue = 'net_tag',\n",
    "    data = fake_ne[0:10],\n",
    "    orient = 'h',\n",
    "    dodge=False\n",
    ").set(title='Most Common Entities in Fake News')"
   ]
  },
  {
   "cell_type": "code",
   "execution_count": 35,
   "id": "2a3a6486",
   "metadata": {},
   "outputs": [
    {
     "data": {
      "text/plain": [
       "[Text(0.5, 1.0, 'Most Common Entities in Fact News')]"
      ]
     },
     "execution_count": 35,
     "metadata": {},
     "output_type": "execute_result"
    },
    {
     "data": {
      "image/png": "[encoded data removed]",
      "text/plain": [
       "<Figure size 1200x500 with 1 Axes>"
      ]
     },
     "metadata": {},
     "output_type": "display_data"
    }
   ],
   "source": [
    "sns.barplot(\n",
    "    x = 'counts',\n",
    "    y = 'tokens',\n",
    "    hue = 'net_tag',\n",
    "    data = fact_ne[0:10],\n",
    "    orient = 'h',\n",
    "    dodge=False\n",
    ").set(title='Most Common Entities in Fact News')"
   ]
  },
  {
   "cell_type": "markdown",
   "id": "cb298db5",
   "metadata": {},
   "source": [
    "## Text Pre-processing "
   ]
  },
  {
   "cell_type": "code",
   "execution_count": 37,
   "id": "7213f205",
   "metadata": {},
   "outputs": [],
   "source": [
    "# a lot of the factual news has a location tag at the beginning of the article\n",
    "df['text_clean'] = df.apply(lambda x: re.sub(r\"^[^-]*-\\s*\", \"\", x['text']), axis=1)"
   ]
  },
  {
   "cell_type": "code",
   "execution_count": 38,
   "id": "18b07271",
   "metadata": {},
   "outputs": [],
   "source": [
    "# lowercase \n",
    "df['text_clean'] = df['text_clean'].str.lower()"
   ]
  },
  {
   "cell_type": "code",
   "execution_count": 39,
   "id": "b16cb29d",
   "metadata": {},
   "outputs": [],
   "source": [
    "# remove punctuation\n",
    "df['text_clean'] = df.apply(lambda x: re.sub(r\"([^\\w\\s])\", \"\", x['text_clean']), axis=1)"
   ]
  },
  {
   "cell_type": "code",
   "execution_count": 40,
   "id": "40f4fcd6",
   "metadata": {},
   "outputs": [
    {
     "name": "stdout",
     "output_type": "stream",
     "text": [
      "['i', 'me', 'my', 'myself', 'we', 'our', 'ours', 'ourselves', 'you', \"you're\", \"you've\", \"you'll\", \"you'd\", 'your', 'yours', 'yourself', 'yourselves', 'he', 'him', 'his', 'himself', 'she', \"she's\", 'her', 'hers', 'herself', 'it', \"it's\", 'its', 'itself', 'they', 'them', 'their', 'theirs', 'themselves', 'what', 'which', 'who', 'whom', 'this', 'that', \"that'll\", 'these', 'those', 'am', 'is', 'are', 'was', 'were', 'be', 'been', 'being', 'have', 'has', 'had', 'having', 'do', 'does', 'did', 'doing', 'a', 'an', 'the', 'and', 'but', 'if', 'or', 'because', 'as', 'until', 'while', 'of', 'at', 'by', 'for', 'with', 'about', 'against', 'between', 'into', 'through', 'during', 'before', 'after', 'above', 'below', 'to', 'from', 'up', 'down', 'in', 'out', 'on', 'off', 'over', 'under', 'again', 'further', 'then', 'once', 'here', 'there', 'when', 'where', 'why', 'how', 'all', 'any', 'both', 'each', 'few', 'more', 'most', 'other', 'some', 'such', 'no', 'nor', 'not', 'only', 'own', 'same', 'so', 'than', 'too', 'very', 's', 't', 'can', 'will', 'just', 'don', \"don't\", 'should', \"should've\", 'now', 'd', 'll', 'm', 'o', 're', 've', 'y', 'ain', 'aren', \"aren't\", 'couldn', \"couldn't\", 'didn', \"didn't\", 'doesn', \"doesn't\", 'hadn', \"hadn't\", 'hasn', \"hasn't\", 'haven', \"haven't\", 'isn', \"isn't\", 'ma', 'mightn', \"mightn't\", 'mustn', \"mustn't\", 'needn', \"needn't\", 'shan', \"shan't\", 'shouldn', \"shouldn't\", 'wasn', \"wasn't\", 'weren', \"weren't\", 'won', \"won't\", 'wouldn', \"wouldn't\"]\n"
     ]
    }
   ],
   "source": [
    "# stop words\n",
    "en_stopwords = stopwords.words('english')\n",
    "print(en_stopwords)"
   ]
  },
  {
   "cell_type": "code",
   "execution_count": 65,
   "id": "8b85787e",
   "metadata": {},
   "outputs": [],
   "source": [
    "words = []\n",
    "for i in df['text']:\n",
    "    word_token = word_tokenize(i)\n",
    "    for j in word_token:\n",
    "        words.append(j)"
   ]
  },
  {
   "cell_type": "code",
   "execution_count": 82,
   "id": "26a58801",
   "metadata": {},
   "outputs": [],
   "source": [
    "unigrams = pd.Series(nltk.ngrams(words,1))"
   ]
  },
  {
   "cell_type": "code",
   "execution_count": 84,
   "id": "def128e9",
   "metadata": {},
   "outputs": [
    {
     "data": {
      "text/plain": [
       "(the,)     3734\n",
       "(,,)       3607\n",
       "(.,)       2421\n",
       "(to,)      2140\n",
       "(of,)      1806\n",
       "(and,)     1630\n",
       "(a,)       1595\n",
       "(in,)      1338\n",
       "(s,)        954\n",
       "(that,)     939\n",
       "Name: count, dtype: int64"
      ]
     },
     "execution_count": 84,
     "metadata": {},
     "output_type": "execute_result"
    }
   ],
   "source": [
    "unigrams.value_counts()[:10]"
   ]
  },
  {
   "cell_type": "code",
   "execution_count": 76,
   "id": "b676440d",
   "metadata": {},
   "outputs": [],
   "source": [
    "df['text_clean'] = df['text_clean'].apply(lambda x: ' '.join([word for word in x.split() if word not in (en_stopwords)]))"
   ]
  },
  {
   "cell_type": "code",
   "execution_count": 77,
   "id": "bc958e30",
   "metadata": {},
   "outputs": [],
   "source": [
    "# tokenize \n",
    "df['text_clean'] = df.apply(lambda x: word_tokenize(x['text_clean']), axis=1)"
   ]
  },
  {
   "cell_type": "code",
   "execution_count": 78,
   "id": "ed602bf9",
   "metadata": {},
   "outputs": [],
   "source": [
    "# lemmatize\n",
    "lemmatizer = WordNetLemmatizer()\n",
    "df[\"text_clean\"] = df[\"text_clean\"].apply(lambda tokens: [lemmatizer.lemmatize(token) for token in tokens])"
   ]
  },
  {
   "cell_type": "code",
   "execution_count": 79,
   "id": "6f7ae3ae",
   "metadata": {},
   "outputs": [
    {
     "data": {
      "text/html": [
       "<div>\n",
       "<style scoped>\n",
       "    .dataframe tbody tr th:only-of-type {\n",
       "        vertical-align: middle;\n",
       "    }\n",
       "\n",
       "    .dataframe tbody tr th {\n",
       "        vertical-align: top;\n",
       "    }\n",
       "\n",
       "    .dataframe thead th {\n",
       "        text-align: right;\n",
       "    }\n",
       "</style>\n",
       "<table border=\"1\" class=\"dataframe\">\n",
       "  <thead>\n",
       "    <tr style=\"text-align: right;\">\n",
       "      <th></th>\n",
       "      <th>title</th>\n",
       "      <th>text</th>\n",
       "      <th>date</th>\n",
       "      <th>fake_or_factual</th>\n",
       "      <th>text_clean</th>\n",
       "    </tr>\n",
       "  </thead>\n",
       "  <tbody>\n",
       "    <tr>\n",
       "      <th>0</th>\n",
       "      <td>HOLLYWEIRD LIB SUSAN SARANDON Compares Muslim ...</td>\n",
       "      <td>There are two small problems with your analogy...</td>\n",
       "      <td>Dec 30, 2015</td>\n",
       "      <td>Fake News</td>\n",
       "      <td>[yearold, oscarwinning, actress, described, me...</td>\n",
       "    </tr>\n",
       "    <tr>\n",
       "      <th>1</th>\n",
       "      <td>Elijah Cummings Called Trump Out To His Face ...</td>\n",
       "      <td>Buried in Trump s bonkers interview with New Y...</td>\n",
       "      <td>April 6, 2017</td>\n",
       "      <td>Fake News</td>\n",
       "      <td>[buried, trump, bonkers, interview, new, york,...</td>\n",
       "    </tr>\n",
       "    <tr>\n",
       "      <th>2</th>\n",
       "      <td>Hillary Clinton Says Half Her Cabinet Will Be...</td>\n",
       "      <td>Women make up over 50 percent of this country,...</td>\n",
       "      <td>April 26, 2016</td>\n",
       "      <td>Fake News</td>\n",
       "      <td>[woman, make, 50, percent, country, grossly, u...</td>\n",
       "    </tr>\n",
       "    <tr>\n",
       "      <th>3</th>\n",
       "      <td>Russian bombing of U.S.-backed forces being di...</td>\n",
       "      <td>WASHINGTON (Reuters) - U.S. Defense Secretary ...</td>\n",
       "      <td>September 18, 2017</td>\n",
       "      <td>Factual News</td>\n",
       "      <td>[u, defense, secretary, jim, mattis, said, mon...</td>\n",
       "    </tr>\n",
       "    <tr>\n",
       "      <th>4</th>\n",
       "      <td>Britain says window to restore Northern Irelan...</td>\n",
       "      <td>BELFAST (Reuters) - Northern Ireland s politic...</td>\n",
       "      <td>September 4, 2017</td>\n",
       "      <td>Factual News</td>\n",
       "      <td>[northern, ireland, political, party, rapidly,...</td>\n",
       "    </tr>\n",
       "  </tbody>\n",
       "</table>\n",
       "</div>"
      ],
      "text/plain": [
       "                                               title  \\\n",
       "0  HOLLYWEIRD LIB SUSAN SARANDON Compares Muslim ...   \n",
       "1   Elijah Cummings Called Trump Out To His Face ...   \n",
       "2   Hillary Clinton Says Half Her Cabinet Will Be...   \n",
       "3  Russian bombing of U.S.-backed forces being di...   \n",
       "4  Britain says window to restore Northern Irelan...   \n",
       "\n",
       "                                                text                 date  \\\n",
       "0  There are two small problems with your analogy...         Dec 30, 2015   \n",
       "1  Buried in Trump s bonkers interview with New Y...        April 6, 2017   \n",
       "2  Women make up over 50 percent of this country,...       April 26, 2016   \n",
       "3  WASHINGTON (Reuters) - U.S. Defense Secretary ...  September 18, 2017    \n",
       "4  BELFAST (Reuters) - Northern Ireland s politic...   September 4, 2017    \n",
       "\n",
       "  fake_or_factual                                         text_clean  \n",
       "0       Fake News  [yearold, oscarwinning, actress, described, me...  \n",
       "1       Fake News  [buried, trump, bonkers, interview, new, york,...  \n",
       "2       Fake News  [woman, make, 50, percent, country, grossly, u...  \n",
       "3    Factual News  [u, defense, secretary, jim, mattis, said, mon...  \n",
       "4    Factual News  [northern, ireland, political, party, rapidly,...  "
      ]
     },
     "execution_count": 79,
     "metadata": {},
     "output_type": "execute_result"
    }
   ],
   "source": [
    "df.head()"
   ]
  },
  {
   "cell_type": "code",
   "execution_count": 92,
   "id": "06060250",
   "metadata": {},
   "outputs": [
    {
     "name": "stdout",
     "output_type": "stream",
     "text": [
      "(said,)          560\n",
      "(trump,)         520\n",
      "(u,)             255\n",
      "(state,)         250\n",
      "(president,)     226\n",
      "(would,)         210\n",
      "(one,)           141\n",
      "(year,)          128\n",
      "(republican,)    128\n",
      "(also,)          124\n",
      "Name: count, dtype: int64\n"
     ]
    }
   ],
   "source": [
    "# most common unigrams after preprocessing\n",
    "tokens_clean = sum(df['text_clean'], [])\n",
    "unigrams_clean = (pd.Series(nltk.ngrams(tokens_clean, 1)).value_counts()) \n",
    "print(unigrams_clean[:10])"
   ]
  },
  {
   "cell_type": "code",
   "execution_count": 108,
   "id": "98611c1d",
   "metadata": {},
   "outputs": [
    {
     "data": {
      "text/plain": [
       "(the,)     3734\n",
       "(,,)       3607\n",
       "(.,)       2421\n",
       "(to,)      2140\n",
       "(of,)      1806\n",
       "(and,)     1630\n",
       "(a,)       1595\n",
       "(in,)      1338\n",
       "(s,)        954\n",
       "(that,)     939\n",
       "Name: count, dtype: int64"
      ]
     },
     "execution_count": 108,
     "metadata": {},
     "output_type": "execute_result"
    }
   ],
   "source": [
    "# most common unigrams before preprocessing\n",
    "unigrams.value_counts()[:10]"
   ]
  },
  {
   "cell_type": "code",
   "execution_count": 109,
   "id": "a89e3a1b",
   "metadata": {},
   "outputs": [
    {
     "name": "stdout",
     "output_type": "stream",
     "text": [
      "(donald, trump)        92\n",
      "(united, state)        80\n",
      "(white, house)         72\n",
      "(president, donald)    42\n",
      "(hillary, clinton)     31\n",
      "(new, york)            31\n",
      "(image, via)           29\n",
      "(supreme, court)       29\n",
      "(official, said)       26\n",
      "(food, stamp)          24\n",
      "Name: count, dtype: int64\n"
     ]
    }
   ],
   "source": [
    "# most common bigrams after preprocessing\n",
    "bigrams = (pd.Series(nltk.ngrams(tokens_clean, 2)).value_counts()) \n",
    "print(bigrams[:10])"
   ]
  },
  {
   "cell_type": "markdown",
   "id": "3664db7f",
   "metadata": {},
   "source": [
    "### Sentiment Analysis "
   ]
  },
  {
   "cell_type": "code",
   "execution_count": 110,
   "id": "006ed7db",
   "metadata": {},
   "outputs": [],
   "source": [
    "# use vader so we also get a neutral sentiment count\n",
    "vader_sentiment = SentimentIntensityAnalyzer()"
   ]
  },
  {
   "cell_type": "code",
   "execution_count": 111,
   "id": "03252906",
   "metadata": {},
   "outputs": [],
   "source": [
    "df['vader_sentiment_score'] = df['text'].apply(lambda review: vader_sentiment.polarity_scores(review)['compound'])"
   ]
  },
  {
   "cell_type": "code",
   "execution_count": 113,
   "id": "8751836e",
   "metadata": {},
   "outputs": [],
   "source": [
    "# create labels\n",
    "bins = [-1, -0.1, 0.1, 1]\n",
    "names = ['negative', 'neutral', 'positive']\n",
    "\n",
    "df['vader_sentiment_label'] = pd.cut(df['vader_sentiment_score'], bins, labels=names)"
   ]
  },
  {
   "cell_type": "code",
   "execution_count": 115,
   "id": "88144e0f",
   "metadata": {},
   "outputs": [
    {
     "data": {
      "text/plain": [
       "<Axes: xlabel='vader_sentiment_label'>"
      ]
     },
     "execution_count": 115,
     "metadata": {},
     "output_type": "execute_result"
    },
    {
     "data": {
      "image/png": "[encoded data removed]",
      "text/plain": [
       "<Figure size 1200x500 with 1 Axes>"
      ]
     },
     "metadata": {},
     "output_type": "display_data"
    }
   ],
   "source": [
    "df['vader_sentiment_label'].value_counts().plot.bar()"
   ]
  },
  {
   "cell_type": "code",
   "execution_count": 116,
   "id": "1d63d12b",
   "metadata": {},
   "outputs": [
    {
     "name": "stderr",
     "output_type": "stream",
     "text": [
      "C:\\Users\\tharu\\AppData\\Local\\Temp\\ipykernel_8728\\2030586678.py:1: UserWarning: The palette list has more values (6) than needed (3), which may not be intended.\n",
      "  sns.countplot(\n"
     ]
    },
    {
     "data": {
      "text/plain": [
       "[Text(0.5, 1.0, 'Sentiment by News Type')]"
      ]
     },
     "execution_count": 116,
     "metadata": {},
     "output_type": "execute_result"
    },
    {
     "data": {
      "image/png": "[encoded data removed]",
      "text/plain": [
       "<Figure size 1200x500 with 1 Axes>"
      ]
     },
     "metadata": {},
     "output_type": "display_data"
    }
   ],
   "source": [
    "sns.countplot(\n",
    "    x = 'fake_or_factual',\n",
    "    hue = 'vader_sentiment_label',\n",
    "    palette = sns.color_palette(\"hls\"),\n",
    "    data = df\n",
    ").set(title='Sentiment by News Type')"
   ]
  },
  {
   "cell_type": "markdown",
   "id": "cc08b690",
   "metadata": {},
   "source": [
    "### LDA "
   ]
  },
  {
   "cell_type": "code",
   "execution_count": 117,
   "id": "6635b71c",
   "metadata": {},
   "outputs": [],
   "source": [
    "# fake news data vectorization\n",
    "fake_news_text = df[df['fake_or_factual'] == \"Fake News\"]['text_clean'].reset_index(drop=True)\n",
    "dictionary_fake = corpora.Dictionary(fake_news_text)\n",
    "doc_term_fake = [dictionary_fake.doc2bow(text) for text in fake_news_text]"
   ]
  },
  {
   "cell_type": "code",
   "execution_count": 118,
   "id": "1e30c532",
   "metadata": {},
   "outputs": [],
   "source": [
    "# generate coherence scores to determine an optimum number of topics\n",
    "coherence_values = []\n",
    "model_list = []\n",
    "\n",
    "min_topics = 2\n",
    "max_topics = 11"
   ]
  },
  {
   "cell_type": "code",
   "execution_count": 119,
   "id": "c05d1609",
   "metadata": {},
   "outputs": [],
   "source": [
    "for num_topics_i in range(min_topics, max_topics+1):\n",
    "    model = gensim.models.LdaModel(doc_term_fake, num_topics=num_topics_i, id2word = dictionary_fake)\n",
    "    model_list.append(model)\n",
    "    coherence_model = CoherenceModel(model=model, texts=fake_news_text, dictionary=dictionary_fake, coherence='c_v')\n",
    "    coherence_values.append(coherence_model.get_coherence())"
   ]
  },
  {
   "cell_type": "code",
   "execution_count": 120,
   "id": "81ba3cb3",
   "metadata": {},
   "outputs": [
    {
     "data": {
      "image/png": "[encoded data removed]",
      "text/plain": [
       "<Figure size 1200x500 with 1 Axes>"
      ]
     },
     "metadata": {},
     "output_type": "display_data"
    }
   ],
   "source": [
    "plt.plot(range(min_topics, max_topics+1), coherence_values)\n",
    "plt.xlabel(\"Number of Topics\")\n",
    "plt.ylabel(\"Coherence score\")\n",
    "plt.legend((\"coherence_values\"), loc='best')\n",
    "plt.show()"
   ]
  },
  {
   "cell_type": "code",
   "execution_count": 121,
   "id": "295cb058",
   "metadata": {},
   "outputs": [
    {
     "data": {
      "text/plain": [
       "[(0,\n",
       "  '0.010*\"trump\" + 0.008*\"clinton\" + 0.005*\"said\" + 0.005*\"woman\" + 0.005*\"president\" + 0.004*\"year\" + 0.003*\"state\" + 0.003*\"one\" + 0.003*\"republican\" + 0.003*\"time\"'),\n",
       " (1,\n",
       "  '0.011*\"trump\" + 0.006*\"said\" + 0.005*\"time\" + 0.005*\"state\" + 0.003*\"u\" + 0.003*\"clinton\" + 0.003*\"stamp\" + 0.003*\"new\" + 0.003*\"president\" + 0.003*\"one\"'),\n",
       " (2,\n",
       "  '0.009*\"trump\" + 0.005*\"clinton\" + 0.004*\"would\" + 0.004*\"state\" + 0.004*\"one\" + 0.004*\"u\" + 0.004*\"president\" + 0.003*\"said\" + 0.003*\"people\" + 0.003*\"time\"'),\n",
       " (3,\n",
       "  '0.009*\"trump\" + 0.004*\"president\" + 0.004*\"would\" + 0.003*\"woman\" + 0.003*\"said\" + 0.003*\"state\" + 0.003*\"million\" + 0.003*\"people\" + 0.003*\"like\" + 0.003*\"clinton\"'),\n",
       " (4,\n",
       "  '0.006*\"trump\" + 0.005*\"said\" + 0.004*\"people\" + 0.004*\"state\" + 0.004*\"would\" + 0.003*\"u\" + 0.003*\"obama\" + 0.003*\"also\" + 0.003*\"one\" + 0.003*\"republican\"'),\n",
       " (5,\n",
       "  '0.004*\"trump\" + 0.004*\"u\" + 0.004*\"said\" + 0.003*\"president\" + 0.003*\"woman\" + 0.003*\"state\" + 0.003*\"obama\" + 0.003*\"people\" + 0.003*\"clinton\" + 0.003*\"white\"'),\n",
       " (6,\n",
       "  '0.014*\"trump\" + 0.004*\"said\" + 0.004*\"republican\" + 0.004*\"state\" + 0.004*\"one\" + 0.004*\"clinton\" + 0.003*\"go\" + 0.003*\"obama\" + 0.003*\"know\" + 0.003*\"mccain\"'),\n",
       " (7,\n",
       "  '0.018*\"trump\" + 0.006*\"president\" + 0.005*\"said\" + 0.005*\"would\" + 0.004*\"u\" + 0.004*\"one\" + 0.003*\"republican\" + 0.003*\"time\" + 0.003*\"clinton\" + 0.003*\"donald\"')]"
      ]
     },
     "execution_count": 121,
     "metadata": {},
     "output_type": "execute_result"
    }
   ],
   "source": [
    "num_topics_fake = 8\n",
    "\n",
    "lda_model_fake = gensim.models.LdaModel(corpus=doc_term_fake,\n",
    "                                       id2word=dictionary_fake,\n",
    "                                       num_topics=num_topics_fake)\n",
    "\n",
    "lda_model_fake.print_topics(num_topics=num_topics_fake, num_words=10)"
   ]
  },
  {
   "cell_type": "markdown",
   "id": "138d58b1",
   "metadata": {},
   "source": [
    "### TF-IDF & LSA "
   ]
  },
  {
   "cell_type": "code",
   "execution_count": 122,
   "id": "3c053926",
   "metadata": {},
   "outputs": [],
   "source": [
    "def tfidf_corpus(doc_term_matrix):\n",
    "    # create a corpus using tfidf vecotization\n",
    "    tfidf = TfidfModel(corpus=doc_term_matrix, normalize=True)\n",
    "    corpus_tfidf = tfidf[doc_term_matrix]\n",
    "    return corpus_tfidf"
   ]
  },
  {
   "cell_type": "code",
   "execution_count": 127,
   "id": "730b4d1c",
   "metadata": {},
   "outputs": [],
   "source": [
    "def get_coherence_scores(corpus, dictionary, text, min_topics, max_topics):\n",
    "    # generate coherence scores to determine an optimum number of topics\n",
    "    coherence_values = []\n",
    "    model_list = []\n",
    "    for num_topics_i in range(min_topics, max_topics+1):\n",
    "        model = LsiModel(corpus, num_topics=num_topics_i, id2word = dictionary)\n",
    "        model_list.append(model)\n",
    "        coherence_model = CoherenceModel(model=model, texts=text, dictionary=dictionary, coherence='c_v')\n",
    "        coherence_values.append(coherence_model.get_coherence())\n",
    "    # plot results\n",
    "    plt.plot(range(min_topics, max_topics+1), coherence_values)\n",
    "    plt.xlabel(\"Number of Topics\")\n",
    "    plt.ylabel(\"Coherence score\")\n",
    "    plt.legend((\"coherence_values\"), loc='best')\n",
    "    plt.show()      "
   ]
  },
  {
   "cell_type": "code",
   "execution_count": 128,
   "id": "5c31f7e7",
   "metadata": {},
   "outputs": [
    {
     "data": {
      "image/png": "[encoded data removed]",
      "text/plain": [
       "<Figure size 1200x500 with 1 Axes>"
      ]
     },
     "metadata": {},
     "output_type": "display_data"
    }
   ],
   "source": [
    "# create tfidf representation\n",
    "corpus_tfidf_fake = tfidf_corpus(doc_term_fake)\n",
    "# coherence scores for fake news data\n",
    "get_coherence_scores(corpus_tfidf_fake, dictionary_fake, fake_news_text, min_topics=2, max_topics=11)"
   ]
  },
  {
   "cell_type": "code",
   "execution_count": 129,
   "id": "89aaec59",
   "metadata": {},
   "outputs": [
    {
     "data": {
      "text/plain": [
       "[(0,\n",
       "  '0.218*\"trump\" + 0.135*\"clinton\" + 0.094*\"woman\" + 0.087*\"president\" + 0.086*\"republican\" + 0.085*\"obama\" + 0.084*\"party\" + 0.083*\"school\" + 0.081*\"said\" + 0.079*\"time\"'),\n",
       " (1,\n",
       "  '-0.299*\"boiler\" + -0.253*\"room\" + -0.250*\"acr\" + -0.186*\"jay\" + -0.185*\"animal\" + -0.176*\"episode\" + -0.147*\"analysis\" + -0.122*\"dyer\" + -0.119*\"moralist\" + -0.119*\"savant\"'),\n",
       " (2,\n",
       "  '-0.218*\"school\" + 0.194*\"clinton\" + 0.165*\"conference\" + -0.151*\"county\" + -0.136*\"student\" + 0.120*\"press\" + 0.116*\"trump\" + 0.112*\"hillary\" + -0.101*\"love\" + 0.096*\"email\"')]"
      ]
     },
     "execution_count": 129,
     "metadata": {},
     "output_type": "execute_result"
    }
   ],
   "source": [
    "# model for fake news data\n",
    "lsa_fake = LsiModel(corpus_tfidf_fake, id2word=dictionary_fake, num_topics=3)\n",
    "lsa_fake.print_topics()"
   ]
  },
  {
   "cell_type": "markdown",
   "id": "b3ccf013",
   "metadata": {},
   "source": [
    "### Predict fake or factual news"
   ]
  },
  {
   "cell_type": "code",
   "execution_count": 130,
   "id": "f14e7973",
   "metadata": {},
   "outputs": [
    {
     "data": {
      "text/html": [
       "<div>\n",
       "<style scoped>\n",
       "    .dataframe tbody tr th:only-of-type {\n",
       "        vertical-align: middle;\n",
       "    }\n",
       "\n",
       "    .dataframe tbody tr th {\n",
       "        vertical-align: top;\n",
       "    }\n",
       "\n",
       "    .dataframe thead th {\n",
       "        text-align: right;\n",
       "    }\n",
       "</style>\n",
       "<table border=\"1\" class=\"dataframe\">\n",
       "  <thead>\n",
       "    <tr style=\"text-align: right;\">\n",
       "      <th></th>\n",
       "      <th>title</th>\n",
       "      <th>text</th>\n",
       "      <th>date</th>\n",
       "      <th>fake_or_factual</th>\n",
       "      <th>text_clean</th>\n",
       "      <th>vader_sentiment_score</th>\n",
       "      <th>vader_sentiment_label</th>\n",
       "    </tr>\n",
       "  </thead>\n",
       "  <tbody>\n",
       "    <tr>\n",
       "      <th>0</th>\n",
       "      <td>HOLLYWEIRD LIB SUSAN SARANDON Compares Muslim ...</td>\n",
       "      <td>There are two small problems with your analogy...</td>\n",
       "      <td>Dec 30, 2015</td>\n",
       "      <td>Fake News</td>\n",
       "      <td>[yearold, oscarwinning, actress, described, me...</td>\n",
       "      <td>-0.3660</td>\n",
       "      <td>negative</td>\n",
       "    </tr>\n",
       "    <tr>\n",
       "      <th>1</th>\n",
       "      <td>Elijah Cummings Called Trump Out To His Face ...</td>\n",
       "      <td>Buried in Trump s bonkers interview with New Y...</td>\n",
       "      <td>April 6, 2017</td>\n",
       "      <td>Fake News</td>\n",
       "      <td>[buried, trump, bonkers, interview, new, york,...</td>\n",
       "      <td>-0.8197</td>\n",
       "      <td>negative</td>\n",
       "    </tr>\n",
       "    <tr>\n",
       "      <th>2</th>\n",
       "      <td>Hillary Clinton Says Half Her Cabinet Will Be...</td>\n",
       "      <td>Women make up over 50 percent of this country,...</td>\n",
       "      <td>April 26, 2016</td>\n",
       "      <td>Fake News</td>\n",
       "      <td>[woman, make, 50, percent, country, grossly, u...</td>\n",
       "      <td>0.9779</td>\n",
       "      <td>positive</td>\n",
       "    </tr>\n",
       "    <tr>\n",
       "      <th>3</th>\n",
       "      <td>Russian bombing of U.S.-backed forces being di...</td>\n",
       "      <td>WASHINGTON (Reuters) - U.S. Defense Secretary ...</td>\n",
       "      <td>September 18, 2017</td>\n",
       "      <td>Factual News</td>\n",
       "      <td>[u, defense, secretary, jim, mattis, said, mon...</td>\n",
       "      <td>-0.3400</td>\n",
       "      <td>negative</td>\n",
       "    </tr>\n",
       "    <tr>\n",
       "      <th>4</th>\n",
       "      <td>Britain says window to restore Northern Irelan...</td>\n",
       "      <td>BELFAST (Reuters) - Northern Ireland s politic...</td>\n",
       "      <td>September 4, 2017</td>\n",
       "      <td>Factual News</td>\n",
       "      <td>[northern, ireland, political, party, rapidly,...</td>\n",
       "      <td>0.8590</td>\n",
       "      <td>positive</td>\n",
       "    </tr>\n",
       "  </tbody>\n",
       "</table>\n",
       "</div>"
      ],
      "text/plain": [
       "                                               title  \\\n",
       "0  HOLLYWEIRD LIB SUSAN SARANDON Compares Muslim ...   \n",
       "1   Elijah Cummings Called Trump Out To His Face ...   \n",
       "2   Hillary Clinton Says Half Her Cabinet Will Be...   \n",
       "3  Russian bombing of U.S.-backed forces being di...   \n",
       "4  Britain says window to restore Northern Irelan...   \n",
       "\n",
       "                                                text                 date  \\\n",
       "0  There are two small problems with your analogy...         Dec 30, 2015   \n",
       "1  Buried in Trump s bonkers interview with New Y...        April 6, 2017   \n",
       "2  Women make up over 50 percent of this country,...       April 26, 2016   \n",
       "3  WASHINGTON (Reuters) - U.S. Defense Secretary ...  September 18, 2017    \n",
       "4  BELFAST (Reuters) - Northern Ireland s politic...   September 4, 2017    \n",
       "\n",
       "  fake_or_factual                                         text_clean  \\\n",
       "0       Fake News  [yearold, oscarwinning, actress, described, me...   \n",
       "1       Fake News  [buried, trump, bonkers, interview, new, york,...   \n",
       "2       Fake News  [woman, make, 50, percent, country, grossly, u...   \n",
       "3    Factual News  [u, defense, secretary, jim, mattis, said, mon...   \n",
       "4    Factual News  [northern, ireland, political, party, rapidly,...   \n",
       "\n",
       "   vader_sentiment_score vader_sentiment_label  \n",
       "0                -0.3660              negative  \n",
       "1                -0.8197              negative  \n",
       "2                 0.9779              positive  \n",
       "3                -0.3400              negative  \n",
       "4                 0.8590              positive  "
      ]
     },
     "execution_count": 130,
     "metadata": {},
     "output_type": "execute_result"
    }
   ],
   "source": [
    "df.head()"
   ]
  },
  {
   "cell_type": "code",
   "execution_count": 132,
   "id": "ab18cbcd",
   "metadata": {},
   "outputs": [],
   "source": [
    "X = [','.join(map(str, l)) for l in df['text_clean']]\n",
    "Y = df['fake_or_factual']"
   ]
  },
  {
   "cell_type": "code",
   "execution_count": 133,
   "id": "8a597438",
   "metadata": {},
   "outputs": [],
   "source": [
    "# text vectorization - CountVectorizer\n",
    "countvec = CountVectorizer()\n",
    "countvec_fit = countvec.fit_transform(X)\n",
    "bag_of_words = pd.DataFrame(countvec_fit.toarray(), columns = countvec.get_feature_names_out())"
   ]
  },
  {
   "cell_type": "code",
   "execution_count": 135,
   "id": "28ba2c76",
   "metadata": {},
   "outputs": [],
   "source": [
    "# split into train and test data\n",
    "from sklearn.model_selection import train_test_split\n",
    "X_train, X_test, y_train, y_test = train_test_split(bag_of_words, Y, test_size=0.3)"
   ]
  },
  {
   "cell_type": "code",
   "execution_count": 136,
   "id": "52f0e6a6",
   "metadata": {},
   "outputs": [],
   "source": [
    "lr = LogisticRegression(random_state=0).fit(X_train, y_train)"
   ]
  },
  {
   "cell_type": "code",
   "execution_count": 146,
   "id": "bf14ea6a",
   "metadata": {},
   "outputs": [
    {
     "name": "stdout",
     "output_type": "stream",
     "text": [
      "accuracy: 0.85\n"
     ]
    }
   ],
   "source": [
    "y_pred_lr = lr.predict(X_test)\n",
    "print('accuracy:',accuracy_score(y_pred_lr, y_test))"
   ]
  },
  {
   "cell_type": "code",
   "execution_count": 147,
   "id": "c67580b5",
   "metadata": {},
   "outputs": [
    {
     "name": "stdout",
     "output_type": "stream",
     "text": [
      "              precision    recall  f1-score   support\n",
      "\n",
      "Factual News       0.85      0.81      0.83        27\n",
      "   Fake News       0.85      0.88      0.87        33\n",
      "\n",
      "    accuracy                           0.85        60\n",
      "   macro avg       0.85      0.85      0.85        60\n",
      "weighted avg       0.85      0.85      0.85        60\n",
      "\n"
     ]
    }
   ],
   "source": [
    "print(classification_report(y_test, y_pred_lr))"
   ]
  },
  {
   "cell_type": "code",
   "execution_count": 148,
   "id": "15d96231",
   "metadata": {},
   "outputs": [],
   "source": [
    "svm = SGDClassifier().fit(X_train, y_train)\n",
    "y_pred_svm = svm.predict(X_test)"
   ]
  },
  {
   "cell_type": "code",
   "execution_count": 149,
   "id": "79324c82",
   "metadata": {},
   "outputs": [
    {
     "name": "stdout",
     "output_type": "stream",
     "text": [
      "accuracy: 0.9166666666666666\n"
     ]
    }
   ],
   "source": [
    "print('accuracy:',accuracy_score(y_pred_svm, y_test))"
   ]
  },
  {
   "cell_type": "code",
   "execution_count": 150,
   "id": "c0a9c721",
   "metadata": {},
   "outputs": [
    {
     "name": "stdout",
     "output_type": "stream",
     "text": [
      "              precision    recall  f1-score   support\n",
      "\n",
      "Factual News       0.92      0.89      0.91        27\n",
      "   Fake News       0.91      0.94      0.93        33\n",
      "\n",
      "    accuracy                           0.92        60\n",
      "   macro avg       0.92      0.91      0.92        60\n",
      "weighted avg       0.92      0.92      0.92        60\n",
      "\n"
     ]
    }
   ],
   "source": [
    "print(classification_report(y_test, y_pred_svm))"
   ]
  },
  {
   "cell_type": "code",
   "execution_count": 151,
   "id": "67938232",
   "metadata": {},
   "outputs": [],
   "source": [
    "from sklearn.naive_bayes import MultinomialNB\n",
    "MNB = MultinomialNB().fit(X_train,y_train)"
   ]
  },
  {
   "cell_type": "code",
   "execution_count": 152,
   "id": "2846e8b9",
   "metadata": {},
   "outputs": [
    {
     "name": "stdout",
     "output_type": "stream",
     "text": [
      "accuracy: 0.8833333333333333\n"
     ]
    }
   ],
   "source": [
    "y_pred_mnb = MNB.predict(X_test)\n",
    "print('accuracy:',accuracy_score(y_pred_mnb, y_test))"
   ]
  },
  {
   "cell_type": "code",
   "execution_count": 153,
   "id": "6efae750",
   "metadata": {},
   "outputs": [
    {
     "name": "stdout",
     "output_type": "stream",
     "text": [
      "              precision    recall  f1-score   support\n",
      "\n",
      "Factual News       0.81      0.96      0.88        27\n",
      "   Fake News       0.96      0.82      0.89        33\n",
      "\n",
      "    accuracy                           0.88        60\n",
      "   macro avg       0.89      0.89      0.88        60\n",
      "weighted avg       0.90      0.88      0.88        60\n",
      "\n"
     ]
    }
   ],
   "source": [
    "print(classification_report(y_test, y_pred_mnb))"
   ]
  },
  {
   "cell_type": "code",
   "execution_count": null,
   "id": "cd0e900b",
   "metadata": {},
   "outputs": [],
   "source": []
  }
 ],
 "metadata": {
  "kernelspec": {
   "display_name": "Python 3 (ipykernel)",
   "language": "python",
   "name": "python3"
  },
  "language_info": {
   "codemirror_mode": {
    "name": "ipython",
    "version": 3
   },
   "file_extension": ".py",
   "mimetype": "text/x-python",
   "name": "python",
   "nbconvert_exporter": "python",
   "pygments_lexer": "ipython3",
   "version": "3.9.16"
  }
 },
 "nbformat": 4,
 "nbformat_minor": 5
}
